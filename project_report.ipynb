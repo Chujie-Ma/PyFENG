{
 "cells": [
  {
   "cell_type": "markdown",
   "id": "0eb1a38f-3db2-44e5-a73e-1bc385b6dde7",
   "metadata": {},
   "source": [
    "# 1. Introduction"
   ]
  },
  {
   "cell_type": "markdown",
   "id": "cfa9209e-30c7-458f-ae06-4c64296bb781",
   "metadata": {},
   "source": [
    "In the classical Heston model, the volatility follows a Brownian semimartingale where the asset price $S_t$ and variance $V_t$ follows the dynamic:"
   ]
  },
  {
   "cell_type": "markdown",
   "id": "97b2aa74-1a1a-4a4e-a339-09e9cbb28a3e",
   "metadata": {},
   "source": [
    "$$d{S_t}={S_t}\\sqrt{V_t}d{W_t}$$"
   ]
  },
  {
   "cell_type": "markdown",
   "id": "674eb626-90ac-4026-a0a7-0d8f425265e0",
   "metadata": {},
   "source": [
    "$$d{V_t}=\\gamma\\left(\\theta-{V_t}\\right)dt+\\gamma v \\sqrt{V_t}d{B_t}\\tag1$$"
   ]
  },
  {
   "cell_type": "markdown",
   "id": "dd321ce5-bbf5-4be6-9a1a-5aef14c43c79",
   "metadata": {},
   "source": [
    "where parameters $\\gamma$, $\\theta$, ${V_0}$, and $v$ are positive. $W$ and $B$ are two Brownian motions with correlation coefficient $\\rho$, that is $d{W_t}d{B_t}=\\rho dt$."
   ]
  },
  {
   "cell_type": "markdown",
   "id": "a669aa47-3935-48bd-8e45-8118923f36c9",
   "metadata": {},
   "source": [
    "But in reality, historical volatility is much rougher than that of a Brownian motion. The rough Heston model is developed for the variance where the fractional Brownian motion ${W_t}^H$ is implemented with Hurst parameter $H\\in (0,1)$ with the presentation"
   ]
  },
  {
   "cell_type": "markdown",
   "id": "d2d07b0c-a70f-45b2-b366-bf6943be7b6e",
   "metadata": {},
   "source": [
    "$${W_t}^H=\\frac{1}{\\Gamma(H+\\frac{1}{2})}\\int _{-\\infty} ^ {0} {[{(t-s)}^{H-\\frac{1}{2}}-{(-s)^{H-\\frac{1}{2}}}]d{W_s}}+\\frac{1}{\\Gamma(H+\\frac{1}{2})}\\int _{0}^{t} {{(t-s)}^{H-\\frac{1}{2}}d{W_s}}\\tag2$$"
   ]
  },
  {
   "cell_type": "markdown",
   "id": "4302247c-204a-4817-b1d0-4a8f9c6b5c17",
   "metadata": {},
   "source": [
    "Define $\\alpha=H+\\frac{1}{2}$, the Heston-like stochastic volatility is as follow."
   ]
  },
  {
   "cell_type": "markdown",
   "id": "97ce8348-3049-4b05-ad15-126c0cd5addc",
   "metadata": {},
   "source": [
    "$${V_t}={V_0}+\\frac{1}{\\Gamma(\\alpha)}\\int _{0}^{t} {(t-s)}^{\\alpha-1} \\gamma (\\theta-{V_s})ds+\\frac{1}{\\Gamma(\\alpha)}\\int _{0}^{t}{(t-s)}^{\\alpha-1} \\gamma v \\sqrt{V_s} d{B_s}\\tag3$$"
   ]
  },
  {
   "cell_type": "markdown",
   "id": "7f8e3e03-fe4e-424a-a7ea-d0e4921d804f",
   "metadata": {},
   "source": [
    "And then a Heston-type formula for the characteristic function of the log-price in model (3) is developed by the convergence of Hawkes-type process. Its characteristic function of both variance and log-price process are derived, preceded by partial differential equation. In the fifth part, we present the numerical results of its solution and simulate the volatility smile."
   ]
  },
  {
   "cell_type": "markdown",
   "id": "df334ebf-4241-4876-a9aa-1402defbb020",
   "metadata": {},
   "source": [
    "# 2. Hawkes-type Process: An approximation of rough Heston model"
   ]
  },
  {
   "cell_type": "markdown",
   "id": "c7ddc529-e569-4ae3-a3e0-32d293d60270",
   "metadata": {},
   "source": [
    "## 2.1 Microstructural foundations for rough Heston models"
   ]
  },
  {
   "cell_type": "markdown",
   "id": "eb88d329-3adb-419c-8beb-8df7eccb0dde",
   "metadata": {},
   "source": [
    "A sequence of bidimensional Hawkes processes $({N}^{T,+},{N}^{T,-})$ indexed by $T>0$ going to infinity with intensity"
   ]
  },
  {
   "cell_type": "markdown",
   "id": "6ce6eb9b-80e8-459f-bd75-a2bc8bc0df8f",
   "metadata": {},
   "source": [
    "$${\\lambda_t}^T=\\begin{bmatrix} {\\lambda_t}^{T,+} \\\\ {\\lambda_t}^{T,-} \\end{bmatrix}={\\mu_T}\\begin{bmatrix}1\\\\1\\end{bmatrix}+\\int _{0}^{t}{a_T}\\phi(t-s)\\begin{bmatrix} d{N_s}^{T,+}\\\\d{N_s}^{T,-}\\end{bmatrix}\\tag4$$"
   ]
  },
  {
   "cell_type": "markdown",
   "id": "a7484e10-8afc-4a66-b5b6-38ed8dd5dc3b",
   "metadata": {},
   "source": [
    "$$\\phi=\\left(\\begin{matrix} {\\varphi_1} & {\\varphi_3} \\\\  {\\varphi_2} & {\\varphi_4} \\end{matrix}\\right)$$"
   ]
  },
  {
   "cell_type": "markdown",
   "id": "53f6559d-0cb8-47f8-b40a-e0bb39b74877",
   "metadata": {},
   "source": [
    "${\\varphi_i}$ are measurable nonnegative deterministic functions and ${\\mu_T}$ and $0<{a_T}<1$ are some deterministic sequences of positive real numbers. ${N_t}^{T,+}$ represents the number of upward jumps of one tick of the transaction price over the period $[0,t]$ and ${N_t}^{T,-}$ the number of downward jumps. Then the transaction price of ultra high-frequency tick-by-tick model ${P_t}^T$ is"
   ]
  },
  {
   "cell_type": "markdown",
   "id": "78cee47d-a034-40e7-a62e-a23b7387f552",
   "metadata": {},
   "source": [
    "$${P_t}^T={N_t}^{T,+}-{N_t}^{T,-}\\tag5$$"
   ]
  },
  {
   "cell_type": "markdown",
   "id": "1adee072-8b46-465b-881f-aecf75f3fa8e",
   "metadata": {},
   "source": [
    "The parameters have the following assumption."
   ]
  },
  {
   "cell_type": "markdown",
   "id": "7f156840-6d7a-4ea5-aa97-a78ea4f56058",
   "metadata": {},
   "source": [
    "$${\\varphi_1} + {\\varphi_3} = {\\varphi_2} + {\\varphi_4}$$"
   ]
  },
  {
   "cell_type": "markdown",
   "id": "961a37ba-5f14-4b30-a38c-3b1709c9e509",
   "metadata": {},
   "source": [
    "$${\\varphi_3} = \\beta {\\varphi_2}$$"
   ]
  },
  {
   "cell_type": "markdown",
   "id": "0939051a-2ab0-41d3-8991-d426f67735b8",
   "metadata": {},
   "source": [
    "Under other assumptions with respects to large order transactions and intensity of exogenous orders, the macroscopic price dynamic $P$ when $T$ tends to infinity is"
   ]
  },
  {
   "cell_type": "markdown",
   "id": "c4f5f49d-559f-40f2-b8b3-24e41d52b43c",
   "metadata": {},
   "source": [
    "$${P_t}=\\frac {\\sqrt{2}}{1-\\int _{0}^{+\\infty}({\\varphi_1}-{\\varphi_2})} \\int _{0}^{t}{\\sigma_s}d{W_s}$$"
   ]
  },
  {
   "cell_type": "markdown",
   "id": "be2a7104-a705-4ea7-8a31-7285b0fa8f1b",
   "metadata": {},
   "source": [
    "$${\\sigma_t}^2 = \\frac {1}{\\Gamma(\\alpha)} \\int _{0}^{t} {(t-s)}^{\\alpha-1} \\gamma (1-{\\sigma_s}^{2})ds+\\frac {1}{\\Gamma(\\alpha)}\\gamma v \\int _{0}^{t} {(t-s)}^{\\alpha-1} {\\sigma_s}d{B_s}\\tag6$$"
   ]
  },
  {
   "cell_type": "markdown",
   "id": "6c4f9bde-ddd8-4130-b794-f6215d38ec49",
   "metadata": {},
   "source": [
    "where $(W,B)$ is a bidimensional correlated Brownian motion with correlation"
   ]
  },
  {
   "cell_type": "markdown",
   "id": "d4652cff-56ef-445e-9dd3-6bbe252780f6",
   "metadata": {},
   "source": [
    "$$\\rho=\\frac{1-\\beta}{\\sqrt{2(1+{\\beta}^2)}}$$"
   ]
  },
  {
   "cell_type": "markdown",
   "id": "50e002f0-f8be-492b-8186-2f6cc8d9ed83",
   "metadata": {},
   "source": [
    "and"
   ]
  },
  {
   "cell_type": "markdown",
   "id": "4ea1c173-27ec-48b7-a679-94965548b1e9",
   "metadata": {},
   "source": [
    "$$v=\\sqrt{\\frac{2(1+{\\beta}^{2})}{{\\lambda}^{\\star} \\mu ({1+\\beta})^2}}, \\gamma={\\lambda}^{\\star}\\frac {\\alpha}{C\\Gamma(1-\\alpha)}$$"
   ]
  },
  {
   "cell_type": "markdown",
   "id": "47cbac1d-cc61-4c22-9e60-8509155607b7",
   "metadata": {},
   "source": [
    "Here $C$ and ${\\lambda}^{\\star}$ are convergences for assumptions to hold."
   ]
  },
  {
   "cell_type": "markdown",
   "id": "5ec278ec-2138-4436-96d2-71c906a1ae87",
   "metadata": {},
   "source": [
    "## 2.2 The rough limits of Hawkes processes"
   ]
  },
  {
   "cell_type": "markdown",
   "id": "ef4df384-c80e-4f74-8c27-5376046d0abd",
   "metadata": {},
   "source": [
    "As $T\\to \\infty$, the sequence of processes ${({P_t}^{T})}_{t\\in [0,1]}$ converges to"
   ]
  },
  {
   "cell_type": "markdown",
   "id": "d02341b8-bb28-42ac-b5dc-7deab5765d9c",
   "metadata": {},
   "source": [
    "$$P_t=\\int _{0}^{t} \\sqrt{V_s}d{W_s}-\\frac{1}{2}\\int _{0}^{t}V_s ds\\tag7$$"
   ]
  },
  {
   "cell_type": "markdown",
   "id": "3c317458-258c-4ee9-a689-e7c6078f8dc9",
   "metadata": {},
   "source": [
    "where $V$ is the unique solution of the rough stochastic differential equation"
   ]
  },
  {
   "cell_type": "markdown",
   "id": "8a303305-1d71-4f20-bcfa-d01e519062d1",
   "metadata": {},
   "source": [
    "$$V_t=\\theta \\xi+\\frac {1}{\\Gamma(\\alpha)}\\int _{0}^{t} {(t-s)}^{\\alpha-1} \\gamma (\\theta-{V_s})ds + \\gamma \\sqrt{\\frac{\\theta(1+{\\beta}^{2})}{\\gamma\\mu\\ {(1+\\beta)}^{2}}}\\frac {1}{\\Gamma(\\alpha)}\\int _{0}^{t} {(t-s)}^{\\alpha-1}\\sqrt{V_s}d{B_s}\\tag8$$"
   ]
  },
  {
   "cell_type": "markdown",
   "id": "2e59ed46-4dce-4da8-96c6-f343a556a801",
   "metadata": {},
   "source": [
    "with $(W,B)$ a correlated bidimensional Brownian motion whose bracket satisfies"
   ]
  },
  {
   "cell_type": "markdown",
   "id": "5fcb896f-3041-4c14-a0dc-32538df66084",
   "metadata": {},
   "source": [
    "$$d{W_t}d{B_t}=\\frac{1-\\beta}{\\sqrt{2(1+{\\beta}^2)}} dt$$"
   ]
  },
  {
   "cell_type": "markdown",
   "id": "6189de03-d19c-460b-b4d0-80ad3c4f1ad3",
   "metadata": {},
   "source": [
    "# 3. Characteristic function of Hawkes-type Process"
   ]
  },
  {
   "cell_type": "markdown",
   "id": "1ae31f5b-ab6f-40e9-8f74-a02a84ff595b",
   "metadata": {},
   "source": [
    "Hawkes-based microscopic price processes \n",
    "converges to the log-price in the rough Heston mode (2). Therefore, if we are able to compute the \n",
    "characteristic function for the microscopic price, its limit will give us that of the log-price in a roug \n",
    "Heston model.l"
   ]
  },
  {
   "cell_type": "markdown",
   "id": "30f535e1-9fff-487b-ba64-50a12f3f3643",
   "metadata": {},
   "source": [
    "Let $L(a,t)$ be the characteristic function of the Hawkes process $N$,"
   ]
  },
  {
   "cell_type": "markdown",
   "id": "14ca4683-2526-4091-b86f-fee1e38374c2",
   "metadata": {},
   "source": [
    "$$L(a,t)=E[{e}^{ia{N_t}}], t\\geq 0, a \\in {R}^{d}$$"
   ]
  },
  {
   "cell_type": "markdown",
   "id": "42a789f5-651f-4733-92da-ba6bdb663b57",
   "metadata": {},
   "source": [
    "The analytical solution is"
   ]
  },
  {
   "cell_type": "markdown",
   "id": "a863248e-e6d5-4f75-ac18-6e7fe091712b",
   "metadata": {},
   "source": [
    "$$L(a,t)={e}^{\\int_{0}^{t}[C(a,t-s)-\\mathbf{1}]\\mu(s)ds}$$"
   ]
  },
  {
   "cell_type": "markdown",
   "id": "f07011b5-efe4-4856-bdc4-23d38868eafe",
   "metadata": {},
   "source": [
    "where $C$ is the solution of the following integral equation"
   ]
  },
  {
   "cell_type": "markdown",
   "id": "7c27b650-0b3a-43e9-ad57-4d5499bd3360",
   "metadata": {},
   "source": [
    "$$C(a,t)={e}^{ia+\\int _{0}^{t}{\\mathbf{\\phi}}^{T}(s)[C(a,t-s)-\\mathbf{1}]ds}$$"
   ]
  },
  {
   "cell_type": "markdown",
   "id": "7fa8645c-8a7d-4a45-9d40-060900d0d9b3",
   "metadata": {},
   "source": [
    "Here ${\\phi}^{T}(s)$ is the transpose of $\\phi(s)$."
   ]
  },
  {
   "cell_type": "markdown",
   "id": "d2ba0ef7-0f38-453c-892a-fcf4570a5aa4",
   "metadata": {},
   "source": [
    "# 4. Characteristic function of log-price"
   ]
  },
  {
   "cell_type": "markdown",
   "id": "60a684c0-7a14-4b2f-af49-d0a29a7dc31e",
   "metadata": {},
   "source": [
    "Finally, we consider the rough Heston model (3). The parameters in dynamics are set as"
   ]
  },
  {
   "cell_type": "markdown",
   "id": "72768a81-1b9e-4504-a04d-0e691fdbb190",
   "metadata": {},
   "source": [
    "$$V_0 = \\theta \\xi, \\rho = \\frac{1-\\beta}{\\sqrt{2(1+{\\beta}^2)}}, v = \\sqrt{\\frac{\\theta(1+{\\beta}^{2})}{\\gamma\\mu {(1+\\beta)}^{2}}}$$"
   ]
  },
  {
   "cell_type": "markdown",
   "id": "207d7ef5-01d6-4b29-af31-9be6d7fbc998",
   "metadata": {},
   "source": [
    "Define the fractional integral of order $r \\in (0,1]$ of a function $f$ as"
   ]
  },
  {
   "cell_type": "markdown",
   "id": "c730a98e-41ab-4584-8a45-8e38eb3323b9",
   "metadata": {},
   "source": [
    "$${I}^{r}f(t)=\\frac {1}{\\Gamma(r)} \\int _{0}^{t}{(t-s)}^{r-1}f(s)ds\\tag9$$"
   ]
  },
  {
   "cell_type": "markdown",
   "id": "852ae5f5-c386-42b4-a4a7-fa28500f200d",
   "metadata": {},
   "source": [
    "whenever the integral exists, and the fractional derivative of order $r \\in [0,1)$ as"
   ]
  },
  {
   "cell_type": "markdown",
   "id": "a5a2488d-8eda-4a79-b639-78f4b9e21d02",
   "metadata": {},
   "source": [
    "$${D}^{r}f(t)=\\frac {1}{\\Gamma(1-r)} \\frac{d}{dt}\\int _{0}^{t}{(t-s)}^{-r}f(s)ds\\tag{10}$$"
   ]
  },
  {
   "cell_type": "markdown",
   "id": "c8e3b795-0c45-488c-b0fe-b206834b98a0",
   "metadata": {},
   "source": [
    "whenever it exists."
   ]
  },
  {
   "cell_type": "markdown",
   "id": "2c855dbd-386f-4613-ab7b-b824c1ba6c8c",
   "metadata": {},
   "source": [
    "Define $X_t = log\\left(\\frac{S_t}{S_0}\\right)$. Then with the fractional Riccati equation, we can obtain the result"
   ]
  },
  {
   "cell_type": "markdown",
   "id": "06958778-2d84-4835-b093-f56567bf29f6",
   "metadata": {},
   "source": [
    "$$E[{e}^{ia{X_t}}]={e}^{{g_1}(a,t)+{V_0}{g_2}(a,t)}\\tag{11}$$"
   ]
  },
  {
   "cell_type": "markdown",
   "id": "3d5a3631-9a8a-406d-888c-24c4e0b7df9a",
   "metadata": {},
   "source": [
    "where"
   ]
  },
  {
   "cell_type": "markdown",
   "id": "3ef42714-75f7-4383-91bd-04ec940f6d80",
   "metadata": {},
   "source": [
    "$${g_1}(a,t)=\\theta\\gamma\\int _{0}^{t} h(a,s)ds$$"
   ]
  },
  {
   "cell_type": "markdown",
   "id": "d7646339-ac49-4be5-8325-b1579f57db83",
   "metadata": {},
   "source": [
    "$${g_2}(a,t)={I}^{1-\\alpha}h(a,t)\\tag{12}$$"
   ]
  },
  {
   "cell_type": "markdown",
   "id": "d29da0c5-179e-440e-b84a-a5c3ffb327c3",
   "metadata": {},
   "source": [
    "and $h(a,.)$ is a solution of the following fractional Riccati equation"
   ]
  },
  {
   "cell_type": "markdown",
   "id": "9e4a55aa-f78a-49f2-b475-e6a47a85ed13",
   "metadata": {},
   "source": [
    "$${D}^{\\alpha}h(a,t)=\\frac{1}{2}(-{a}^{2}-ia)+\\gamma(ia\\rho v - 1)h(a,t)+\\frac{{(\\gamma v)}^{2}}{2}{h}^2(a,t)$$"
   ]
  },
  {
   "cell_type": "markdown",
   "id": "9c0dfaca-0061-4123-838e-ca9916a00c92",
   "metadata": {},
   "source": [
    "$${I}^{1-\\alpha}h(a,0)=0\\tag{13}$$"
   ]
  },
  {
   "cell_type": "markdown",
   "id": "5dbc25bf-6ae1-4bd7-9b6e-8c3ccd28712b",
   "metadata": {},
   "source": [
    "with ${D}^{\\alpha}$ and ${I}^{1-\\alpha}$ the fractional derivative and integral operators defined in (9) and (10). When $\\alpha=1$, this result coincides with the classical Heston's result. When $\\alpha<1$, the results are solved numerically in Section 5."
   ]
  },
  {
   "cell_type": "markdown",
   "id": "1d0777d1-92ac-474d-8997-aa3e723f4a73",
   "metadata": {},
   "source": [
    "# 5. Numerical application"
   ]
  },
  {
   "cell_type": "markdown",
   "id": "43a20b75",
   "metadata": {},
   "source": [
    "In this section, we first calculate different Call option prices against log-moneyness for various time T."
   ]
  },
  {
   "cell_type": "code",
   "execution_count": 1,
   "id": "e8a522aa-e8c9-4236-bba1-07417b797022",
   "metadata": {},
   "outputs": [],
   "source": [
    "import numpy as np\n",
    "import sys\n",
    "sys.path.insert(0, 'E:/github/PyFENG')\n",
    "import time\n",
    "import pyfeng as pf\n",
    "import matplotlib.pyplot as plt"
   ]
  },
  {
   "cell_type": "markdown",
   "id": "ac3324d5",
   "metadata": {},
   "source": [
    "Use the same parameters as in the paper:\n",
    "$$\n",
    "\\alpha=0.62, \\quad \\gamma=0.1, \\quad \\rho=-0.681, \\quad V_0=0.0392, \\quad v=0.331, \\quad \\theta=0.3156 .\n",
    "$$"
   ]
  },
  {
   "cell_type": "code",
   "execution_count": 2,
   "id": "4bd64a81",
   "metadata": {},
   "outputs": [],
   "source": [
    "strike = np.linspace(80,120,21)\n",
    "T = np.array([0.1, 0.2, 0.5, 1, 1.5, 2])\n",
    "sigma, vov, mr, rho, spot, theta, alpha = 0.0392, 0.331, 0.1, -0.681, 100, 0.3156, 0.62\n",
    "m = pf.sv_fft.RoughHestonFft(sigma, vov=vov, mr=mr, rho=rho, alpha=alpha)"
   ]
  },
  {
   "cell_type": "code",
   "execution_count": 3,
   "id": "74651a3f",
   "metadata": {},
   "outputs": [],
   "source": [
    "row = len(T)\n",
    "col = len(strike)\n",
    "price = np.zeros((row,col))\n",
    "for i in range(row):\n",
    "    price[i] = m.price(strike, spot, T[i])"
   ]
  },
  {
   "cell_type": "code",
   "execution_count": 4,
   "id": "5bdff300",
   "metadata": {},
   "outputs": [
    {
     "data": {
      "text/plain": [
       "array([[2.00000141e+01, 1.80000896e+01, 1.60004845e+01, 1.40022375e+01,\n",
       "        1.20088675e+01, 1.00302969e+01, 8.08969187e+00, 6.23141740e+00,\n",
       "        4.52398414e+00, 3.04981652e+00, 1.87971709e+00, 1.04316161e+00,\n",
       "        5.13896311e-01, 2.21887520e-01, 8.30460191e-02, 2.66910946e-02,\n",
       "        7.31015186e-03, 1.69567108e-03, 3.31610247e-04, 5.45086727e-05,\n",
       "        7.51963862e-06],\n",
       "       [2.00053090e+01, 1.80134527e+01, 1.60316239e+01, 1.40691785e+01,\n",
       "        1.21412582e+01, 1.02700808e+01, 8.48505781e+00, 6.82100871e+00,\n",
       "        5.31419125e+00, 3.99667541e+00, 2.89041851e+00, 2.00281602e+00,\n",
       "        1.32519564e+00, 8.34753173e-01, 4.99234683e-01, 2.82813056e-01,\n",
       "        1.51449523e-01, 7.65377635e-02, 3.64519933e-02, 1.63428605e-02,\n",
       "        6.89189327e-03],\n",
       "       [2.02124425e+01, 1.83259109e+01, 1.64855552e+01, 1.47036322e+01,\n",
       "        1.29932920e+01, 1.13679328e+01, 9.84043382e+00, 8.42234238e+00,\n",
       "        7.12310148e+00, 5.94940646e+00, 4.90476293e+00, 3.98929359e+00,\n",
       "        3.19980835e+00, 2.53011909e+00, 1.97155194e+00, 1.51359051e+00,\n",
       "        1.14457575e+00, 8.52391211e-01, 6.25074825e-01, 4.51316071e-01,\n",
       "        3.20817481e-01],\n",
       "       [2.09759837e+01, 1.92631059e+01, 1.76102011e+01, 1.60236852e+01,\n",
       "        1.45094891e+01, 1.30728681e+01, 1.17182350e+01, 1.04490277e+01,\n",
       "        9.26761454e+00, 8.17524359e+00, 7.17203504e+00, 6.25701512e+00,\n",
       "        5.42818725e+00, 4.68263432e+00, 4.01664478e+00, 3.42585478e+00,\n",
       "        2.90539837e+00, 2.45005865e+00, 2.05441320e+00, 1.71296872e+00,\n",
       "        1.42028077e+00],\n",
       "       [2.18630584e+01, 2.02687243e+01, 1.87339413e+01, 1.72622351e+01,\n",
       "        1.58566383e+01, 1.45196336e+01, 1.32531136e+01, 1.20583563e+01,\n",
       "        1.09360186e+01, 9.88614478e+00, 8.90818909e+00, 8.00105190e+00,\n",
       "        7.16312555e+00, 6.39234865e+00, 5.68626609e+00, 5.04209255e+00,\n",
       "        4.45677734e+00, 3.92706861e+00, 3.44957525e+00, 3.02082512e+00,\n",
       "        2.63731848e+00],\n",
       "       [2.27452585e+01, 2.12361656e+01, 1.97838395e+01, 1.83903267e+01,\n",
       "        1.70572754e+01, 1.57859206e+01, 1.45770789e+01, 1.34311512e+01,\n",
       "        1.23481336e+01, 1.13276347e+01, 1.03688991e+01, 9.47083555e+00,\n",
       "        8.63204854e+00, 7.85087303e+00, 7.12541038e+00, 6.45356509e+00,\n",
       "        5.83308137e+00, 5.26157876e+00, 4.73658627e+00, 4.25557445e+00,\n",
       "        3.81598502e+00]])"
      ]
     },
     "execution_count": 4,
     "metadata": {},
     "output_type": "execute_result"
    }
   ],
   "source": [
    "price"
   ]
  },
  {
   "cell_type": "code",
   "execution_count": 5,
   "id": "3c7b7b46",
   "metadata": {},
   "outputs": [
    {
     "data": {
      "image/png": "[encoded data removed]",
      "text/plain": [
       "<Figure size 640x480 with 1 Axes>"
      ]
     },
     "metadata": {},
     "output_type": "display_data"
    }
   ],
   "source": [
    "plt.plot(np.log(strike/spot), price[0, :], color = 'b', marker = 'x', markersize=3, linewidth=1, label='T=0.1')\n",
    "plt.plot(np.log(strike/spot), price[1, :], color = 'g', marker = 'x', markersize=3, linewidth=1, label='T=0.2')\n",
    "plt.plot(np.log(strike/spot), price[2, :], color = 'r', marker = 'x', markersize=3, linewidth=1, label='T=0.5')\n",
    "plt.plot(np.log(strike/spot), price[3, :], color = 'k', marker = 'x', markersize=3, linewidth=1, label='T=1.0')\n",
    "plt.plot(np.log(strike/spot), price[4, :], color = 'y', marker = 'x', markersize=3, linewidth=1, label='T=1.5')\n",
    "plt.plot(np.log(strike/spot), price[5, :], color = 'm', marker = 'x', markersize=3, linewidth=1, label='T=2.0')\n",
    "plt.ylabel('Call option prices')\n",
    "plt.xlabel('log-moneyness')\n",
    "plt.legend(loc = 'upper right')\n",
    "plt.show()"
   ]
  },
  {
   "cell_type": "code",
   "execution_count": 6,
   "id": "dd6ca2a7",
   "metadata": {},
   "outputs": [],
   "source": [
    "m_vol = m.vol_smile(strike, spot, texp = 1.0)"
   ]
  },
  {
   "cell_type": "code",
   "execution_count": 7,
   "id": "e6baaf2a",
   "metadata": {},
   "outputs": [
    {
     "data": {
      "text/plain": [
       "array([0.18855206, 0.18761246, 0.18669421, 0.18579661, 0.1849189 ,\n",
       "       0.18406021, 0.18321957, 0.18239596, 0.18158846, 0.1807963 ,\n",
       "       0.18001904, 0.17925666, 0.1785083 , 0.17777352, 0.17705214,\n",
       "       0.17634408, 0.17564928, 0.17496762, 0.17429889, 0.17364281,\n",
       "       0.17299903])"
      ]
     },
     "execution_count": 7,
     "metadata": {},
     "output_type": "execute_result"
    }
   ],
   "source": [
    "m_vol"
   ]
  },
  {
   "cell_type": "code",
   "execution_count": 9,
   "id": "c3faa25c",
   "metadata": {},
   "outputs": [
    {
     "data": {
      "image/png": "[encoded data removed]",
      "text/plain": [
       "<Figure size 640x480 with 1 Axes>"
      ]
     },
     "metadata": {},
     "output_type": "display_data"
    }
   ],
   "source": [
    "plt.plot(np.log(strike/spot), m_vol, color = 'r', marker = 'x', markersize=3, linewidth=1, label='T=1.0')\n",
    "plt.ylabel('Implied volatility')\n",
    "plt.xlabel('log-moneyness')\n",
    "plt.legend(loc = 'upper right')\n",
    "plt.show()"
   ]
  },
  {
   "cell_type": "code",
   "execution_count": null,
   "id": "87f04051",
   "metadata": {},
   "outputs": [],
   "source": []
  }
 ],
 "metadata": {
  "kernelspec": {
   "display_name": "Python 3 (ipykernel)",
   "language": "python",
   "name": "python3"
  },
  "language_info": {
   "codemirror_mode": {
    "name": "ipython",
    "version": 3
   },
   "file_extension": ".py",
   "mimetype": "text/x-python",
   "name": "python",
   "nbconvert_exporter": "python",
   "pygments_lexer": "ipython3",
   "version": "3.9.13"
  }
 },
 "nbformat": 4,
 "nbformat_minor": 5
}
